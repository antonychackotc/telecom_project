{
 "cells": [
  {
   "cell_type": "code",
   "execution_count": 1,
   "id": "8ddbb0e0",
   "metadata": {},
   "outputs": [],
   "source": [
    "import pandas as pd\n",
    "import numpy as np\n",
    "import matplotlib.pyplot as plt\n",
    "import seaborn as sns\n",
    "import sklearn\n",
    "import streamlit\n",
    "import joblib\n"
   ]
  },
  {
   "cell_type": "markdown",
   "id": "9914857a",
   "metadata": {},
   "source": [
    "Statistics & EDA steps done after of half preprocessing step like Handling Missing value and Outlier Treatment , before of encoding and feature scaling"
   ]
  },
  {
   "cell_type": "code",
   "execution_count": 2,
   "id": "30a937f5",
   "metadata": {},
   "outputs": [],
   "source": [
    "df=pd.read_csv('telco-customer.csv')"
   ]
  },
  {
   "cell_type": "code",
   "execution_count": 3,
   "id": "50a8012f",
   "metadata": {},
   "outputs": [
    {
     "data": {
      "text/html": [
       "<div>\n",
       "<style scoped>\n",
       "    .dataframe tbody tr th:only-of-type {\n",
       "        vertical-align: middle;\n",
       "    }\n",
       "\n",
       "    .dataframe tbody tr th {\n",
       "        vertical-align: top;\n",
       "    }\n",
       "\n",
       "    .dataframe thead th {\n",
       "        text-align: right;\n",
       "    }\n",
       "</style>\n",
       "<table border=\"1\" class=\"dataframe\">\n",
       "  <thead>\n",
       "    <tr style=\"text-align: right;\">\n",
       "      <th></th>\n",
       "      <th>SeniorCitizen</th>\n",
       "      <th>tenure</th>\n",
       "      <th>MonthlyCharges</th>\n",
       "    </tr>\n",
       "  </thead>\n",
       "  <tbody>\n",
       "    <tr>\n",
       "      <th>count</th>\n",
       "      <td>7043.000000</td>\n",
       "      <td>7043.000000</td>\n",
       "      <td>7043.000000</td>\n",
       "    </tr>\n",
       "    <tr>\n",
       "      <th>mean</th>\n",
       "      <td>0.162147</td>\n",
       "      <td>32.371149</td>\n",
       "      <td>64.761692</td>\n",
       "    </tr>\n",
       "    <tr>\n",
       "      <th>std</th>\n",
       "      <td>0.368612</td>\n",
       "      <td>24.559481</td>\n",
       "      <td>30.090047</td>\n",
       "    </tr>\n",
       "    <tr>\n",
       "      <th>min</th>\n",
       "      <td>0.000000</td>\n",
       "      <td>0.000000</td>\n",
       "      <td>18.250000</td>\n",
       "    </tr>\n",
       "    <tr>\n",
       "      <th>25%</th>\n",
       "      <td>0.000000</td>\n",
       "      <td>9.000000</td>\n",
       "      <td>35.500000</td>\n",
       "    </tr>\n",
       "    <tr>\n",
       "      <th>50%</th>\n",
       "      <td>0.000000</td>\n",
       "      <td>29.000000</td>\n",
       "      <td>70.350000</td>\n",
       "    </tr>\n",
       "    <tr>\n",
       "      <th>75%</th>\n",
       "      <td>0.000000</td>\n",
       "      <td>55.000000</td>\n",
       "      <td>89.850000</td>\n",
       "    </tr>\n",
       "    <tr>\n",
       "      <th>max</th>\n",
       "      <td>1.000000</td>\n",
       "      <td>72.000000</td>\n",
       "      <td>118.750000</td>\n",
       "    </tr>\n",
       "  </tbody>\n",
       "</table>\n",
       "</div>"
      ],
      "text/plain": [
       "       SeniorCitizen       tenure  MonthlyCharges\n",
       "count    7043.000000  7043.000000     7043.000000\n",
       "mean        0.162147    32.371149       64.761692\n",
       "std         0.368612    24.559481       30.090047\n",
       "min         0.000000     0.000000       18.250000\n",
       "25%         0.000000     9.000000       35.500000\n",
       "50%         0.000000    29.000000       70.350000\n",
       "75%         0.000000    55.000000       89.850000\n",
       "max         1.000000    72.000000      118.750000"
      ]
     },
     "execution_count": 3,
     "metadata": {},
     "output_type": "execute_result"
    }
   ],
   "source": [
    "df.describe()"
   ]
  },
  {
   "cell_type": "code",
   "execution_count": null,
   "id": "776baa20",
   "metadata": {},
   "outputs": [
    {
     "name": "stdout",
     "output_type": "stream",
     "text": [
      "T-test: t-statistic=18.408, p-value=0.000\n"
     ]
    }
   ],
   "source": [
    "from scipy.stats import ttest_ind\n",
    "\n",
    "group1 = df[df['Churn'] == 'Yes']['MonthlyCharges'].dropna()\n",
    "group2 = df[df['Churn'] == 'No']['MonthlyCharges'].dropna()\n",
    "\n",
    "t_stat, p_value = ttest_ind(group1, group2, equal_var=False)\n",
    "print(f\"T-test: t-statistic={t_stat:.3f}, p-value={p_value:.3f}\")"
   ]
  },
  {
   "cell_type": "code",
   "execution_count": 8,
   "id": "362826ef",
   "metadata": {},
   "outputs": [
    {
     "name": "stdout",
     "output_type": "stream",
     "text": [
      "Churn=Yes sample size: 1869\n",
      "Churn=No sample size: 5174\n"
     ]
    }
   ],
   "source": [
    "print(\"Churn=Yes sample size:\", len(group1))\n",
    "print(\"Churn=No sample size:\", len(group2))"
   ]
  },
  {
   "cell_type": "markdown",
   "id": "dd707df5",
   "metadata": {},
   "source": [
    "#################################################################################################"
   ]
  },
  {
   "cell_type": "markdown",
   "id": "55e026b6",
   "metadata": {},
   "source": [
    "Both are much greater than 30, so you have large samples.\n",
    "However, since you do NOT know the population standard deviation, the correct test is still the t-test"
   ]
  },
  {
   "cell_type": "markdown",
   "id": "3cae8418",
   "metadata": {},
   "source": [
    "Use the t-test for comparing means of MonthlyCharges between Churn groups.\n",
    "\n",
    "The z-test is not appropriate because the population standard deviation is unknown"
   ]
  },
  {
   "cell_type": "markdown",
   "id": "1f54c58b",
   "metadata": {},
   "source": [
    "Visualize the Results"
   ]
  },
  {
   "cell_type": "code",
   "execution_count": 10,
   "id": "f40ad19b",
   "metadata": {},
   "outputs": [
    {
     "data": {
      "image/png": "[encoded data removed]",
      "text/plain": [
       "<Figure size 640x480 with 1 Axes>"
      ]
     },
     "metadata": {},
     "output_type": "display_data"
    }
   ],
   "source": [
    "sns.boxplot(x='Churn', y='MonthlyCharges', data=df)\n",
    "plt.show()"
   ]
  },
  {
   "cell_type": "markdown",
   "id": "4cd67534",
   "metadata": {},
   "source": [
    "Yes, if a feature's p-value is less than 0.005, it is highly significant in most statistical contexts.\n",
    "\n",
    "It’s commonly used in regression models (like Linear or Logistic Regression) or hypothesis testing.\n",
    "\n",
    "The smaller the p-value, the more evidence you have to //\"\"\" reject the null hypothesis \"\"\"// (which usually means \"this feature has no effect\")."
   ]
  },
  {
   "cell_type": "markdown",
   "id": "060a64ee",
   "metadata": {},
   "source": [
    "✅ Yes, if p < 0.005, the feature is statistically important (strong evidence).\n",
    "\n",
    "💡 But always combine p-values with domain knowledge and other methods (correlation, feature importance, etc.)."
   ]
  },
  {
   "cell_type": "markdown",
   "id": "46f75890",
   "metadata": {},
   "source": [
    "#######################################################################################################"
   ]
  },
  {
   "cell_type": "code",
   "execution_count": 12,
   "id": "57c7f81a",
   "metadata": {},
   "outputs": [],
   "source": [
    "df['TotalCharges'] = pd.to_numeric(df['TotalCharges'], errors='coerce')"
   ]
  },
  {
   "cell_type": "code",
   "execution_count": 14,
   "id": "8c17b9a3",
   "metadata": {},
   "outputs": [
    {
     "name": "stdout",
     "output_type": "stream",
     "text": [
      "Churn=Yes sample size (TotalCharges): 1869\n",
      "Churn=No sample size (TotalCharges): 5163\n",
      "T-test for TotalCharges: t-statistic=-18.801, p-value=0.000\n",
      "Churn=Yes sample size (tenure): 1869\n",
      "Churn=No sample size (tenure): 5174\n",
      "T-test for tenure: t-statistic=-34.824, p-value=0.000\n"
     ]
    }
   ],
   "source": [
    "# For TotalCharges\n",
    "group1 = df[df['Churn'] == 'Yes']['TotalCharges'].dropna()\n",
    "group2 = df[df['Churn'] == 'No']['TotalCharges'].dropna()\n",
    "print(\"Churn=Yes sample size (TotalCharges):\", len(group1))\n",
    "print(\"Churn=No sample size (TotalCharges):\", len(group2))\n",
    "t_stat, p_value = ttest_ind(group1, group2, equal_var=False)\n",
    "print(f\"T-test for TotalCharges: t-statistic={t_stat:.3f}, p-value={p_value:.3f}\")\n",
    "\n",
    "# For tenure\n",
    "group1 = df[df['Churn'] == 'Yes']['tenure'].dropna()\n",
    "group2 = df[df['Churn'] == 'No']['tenure'].dropna()\n",
    "print(\"Churn=Yes sample size (tenure):\", len(group1))\n",
    "print(\"Churn=No sample size (tenure):\", len(group2))\n",
    "t_stat, p_value = ttest_ind(group1, group2, equal_var=False)\n",
    "print(f\"T-test for tenure: t-statistic={t_stat:.3f}, p-value={p_value:.3f}\")"
   ]
  },
  {
   "cell_type": "markdown",
   "id": "1b7086d8",
   "metadata": {},
   "source": [
    "#####################################################################################"
   ]
  },
  {
   "cell_type": "markdown",
   "id": "4c149030",
   "metadata": {},
   "source": [
    "TotalCharges:\n",
    "\n",
    "t-statistic = -18.801, p-value = 0.000\n",
    "\"\"Both groups have large sample sizes.\"\"\n",
    "\n",
    "###############################################################################\n",
    "\n",
    "tenure:\n",
    "\n",
    "t-statistic = -34.824, p-value = 0.000\n",
    "\"\"Both groups have large sample sizes.\"\""
   ]
  },
  {
   "cell_type": "markdown",
   "id": "19ad3aa4",
   "metadata": {},
   "source": [
    "#####################################################################################################\n",
    "\n",
    "Both p-values are much less than 0.05, so the differences in means for \"TotalCharges\" and \"tenure\" between Churn groups are statistically significant.\n",
    "\n",
    "This means both features are important for distinguishing between customers who churn and those who do not."
   ]
  },
  {
   "cell_type": "markdown",
   "id": "adef300a",
   "metadata": {},
   "source": [
    "#################################################################################################\n",
    "\n",
    "Summarize Findings:\n",
    "\n",
    "MonthlyCharges, TotalCharges, and tenure are all significantly different between churned and non-churned customers."
   ]
  },
  {
   "cell_type": "code",
   "execution_count": 15,
   "id": "4d991cc3",
   "metadata": {},
   "outputs": [
    {
     "data": {
      "image/png": "[encoded data removed]",
      "text/plain": [
       "<Figure size 640x480 with 1 Axes>"
      ]
     },
     "metadata": {},
     "output_type": "display_data"
    },
    {
     "data": {
      "image/png": "[encoded data removed]",
      "text/plain": [
       "<Figure size 640x480 with 1 Axes>"
      ]
     },
     "metadata": {},
     "output_type": "display_data"
    }
   ],
   "source": [
    "sns.boxplot(x='Churn', y='TotalCharges', data=df)\n",
    "plt.show()\n",
    "sns.boxplot(x='Churn', y='tenure', data=df)\n",
    "plt.show()"
   ]
  },
  {
   "cell_type": "code",
   "execution_count": 16,
   "id": "b8dd7bb5",
   "metadata": {},
   "outputs": [],
   "source": [
    "#############################################################################################"
   ]
  },
  {
   "cell_type": "markdown",
   "id": "225f336f",
   "metadata": {},
   "source": [
    "\"\"\"\"\"\"Mutual information\"\"\"\"\"\" is mainly used for -----feature selection---- in machine learning. It measures how much knowing one variable reduces uncertainty about another, capturing any kind of dependency (not just mean differences).\n",
    "\n",
    "\n",
    "\"\"\"\"\"\"z-test and t-test\"\"\"\"\" are used for ----statistical analysis---- to compare means between groups and to test hypotheses -----(e.g., whether to reject the null hypothesis that two group means are equal)----."
   ]
  },
  {
   "cell_type": "markdown",
   "id": "ce21d7a8",
   "metadata": {},
   "source": [
    "################################################################################################"
   ]
  },
  {
   "cell_type": "markdown",
   "id": "d812419b",
   "metadata": {},
   "source": [
    "\"\"\"\"\"\"Z-test is used for large samples\"\"\"\"\"\"\" ----- (n > 30) ------ and when the population standard deviation is known (which is rare in real-world scenarios).\n",
    "\n",
    "\"\"\"\"\"\"T-test is used for small or large samples\"\"\"\"\"\"\" ----- (any n) -------, when the population standard deviation is unknown (which is almost always the case in real-world data)."
   ]
  },
  {
   "cell_type": "markdown",
   "id": "15afc915",
   "metadata": {},
   "source": [
    "########################################################################################"
   ]
  }
 ],
 "metadata": {
  "kernelspec": {
   "display_name": "telecomenvironment",
   "language": "python",
   "name": "python3"
  },
  "language_info": {
   "codemirror_mode": {
    "name": "ipython",
    "version": 3
   },
   "file_extension": ".py",
   "mimetype": "text/x-python",
   "name": "python",
   "nbconvert_exporter": "python",
   "pygments_lexer": "ipython3",
   "version": "3.13.3"
  }
 },
 "nbformat": 4,
 "nbformat_minor": 5
}
