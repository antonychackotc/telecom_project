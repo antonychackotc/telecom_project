{
 "cells": [
  {
   "cell_type": "code",
   "execution_count": 2,
   "id": "84bda4d2",
   "metadata": {},
   "outputs": [],
   "source": [
    "import pandas as pd\n",
    "import numpy as np\n",
    "import matplotlib.pyplot as plt\n",
    "import seaborn as sns\n",
    "import sklearn\n",
    "import streamlit\n",
    "import joblib\n"
   ]
  },
  {
   "cell_type": "code",
   "execution_count": 3,
   "id": "163d591b",
   "metadata": {},
   "outputs": [
    {
     "name": "stdout",
     "output_type": "stream",
     "text": [
      "Predicted Churn: [1]\n",
      "Churn Probability: [0.75598225]\n",
      "Prediction: YES, customer churn will happen.\n"
     ]
    }
   ],
   "source": [
    "\n",
    "# Load your saved logistic regression model\n",
    "model = joblib.load(\"../models/logistic_regression_telco.pkl\")\n",
    "\n",
    "# Load new data for prediction (replace with your actual file or DataFrame)\n",
    "# Example: new_data = pd.read_csv('future_telco_data.csv')\n",
    "# Make sure new_data has the same features and preprocessing as your training data\n",
    "\n",
    "# Example dummy data (replace with your real data)\n",
    "new_data = pd.DataFrame({\n",
    "    'tenure': [8],\n",
    "    'MonthlyCharges_scaled': [1.159],\n",
    "    'TotalCharges_scaled': [0.092],\n",
    "    'gender_Male': [0],\n",
    "    'gender_Female': [1],\n",
    "    'OnlineBackup_FE': [1],\n",
    "    'InternetService_FE': [0.4395],\n",
    "    'OnlineSecurity_FE': [0.4966],\n",
    "    'TechSupport_FE': [0.493114],\n",
    "    'Contract_FE': [0.55019],\n",
    "    'PaymentMethod_FE': [0.335794],\n",
    "    'PaperlessBilling_FE': [0.59221],\n",
    "    'MultipleLines_FE': [0.421837],\n",
    "    'DeviceProtection_FE': [0.34388],\n",
    "    'Partner_Yes': [0],\n",
    "    'Partner_No': [1],\n",
    "    'SeniorCitizen': [0],\n",
    "    'Dependents_No': [1],\n",
    "    'Dependents_Yes': [0],\n",
    "    'StreamingTV_FE': [0.3843],\n",
    "    'StreamingMovies_FE': [0.3879]\n",
    "})\n",
    "\n",
    "# Predict churn (0 or 1)\n",
    "predictions = model.predict(new_data)\n",
    "# Predict churn probability\n",
    "probabilities = model.predict_proba(new_data)[:, 1]\n",
    "\n",
    "print(\"Predicted Churn:\", predictions)\n",
    "print(\"Churn Probability:\", probabilities)\n",
    "\n",
    "# Explain the prediction\n",
    "if predictions[0] == 1:\n",
    "    print(\"Prediction: YES, customer churn will happen.\")\n",
    "else:\n",
    "    print(\"Prediction: NO, customer will NOT churn.\")"
   ]
  },
  {
   "cell_type": "code",
   "execution_count": 4,
   "id": "d8e72e3e",
   "metadata": {},
   "outputs": [
    {
     "name": "stdout",
     "output_type": "stream",
     "text": [
      "Predicted Churn: [0]\n",
      "Churn Probability: [0.03196129]\n",
      "Prediction: NO, customer will NOT churn.\n"
     ]
    }
   ],
   "source": [
    "\n",
    "# Load your saved logistic regression model\n",
    "model = joblib.load(\"../models/logistic_regression_telco.pkl\")\n",
    "\n",
    "# Load new data for prediction (replace with your actual file or DataFrame)\n",
    "# Example: new_data = pd.read_csv('future_telco_data.csv')\n",
    "# Make sure new_data has the same features and preprocessing as your training data\n",
    "\n",
    "# Example dummy data (replace with your real data)\n",
    "new_data = pd.DataFrame({\n",
    "    'tenure': [45],\n",
    "    'MonthlyCharges_scaled': [-0.74],\n",
    "    'TotalCharges_scaled': [0.21],\n",
    "    'gender_Male': [1],\n",
    "    'gender_Female': [0],\n",
    "    'OnlineBackup_FE': [0.4384],\n",
    "    'InternetService_FE': [0.3437],\n",
    "    'OnlineSecurity_FE': [0.2866],\n",
    "    'TechSupport_FE': [0.2902],\n",
    "    'Contract_FE': [0.2091],\n",
    "    'PaymentMethod_FE': [0.21922],\n",
    "    'PaperlessBilling_FE': [0.4077],\n",
    "    'MultipleLines_FE': [0.096],\n",
    "    'DeviceProtection_FE': [0.3438],\n",
    "    'Partner_Yes': [0],\n",
    "    'Partner_No': [1],\n",
    "    'SeniorCitizen': [0],\n",
    "    'Dependents_No': [1],\n",
    "    'Dependents_Yes': [0],\n",
    "    'StreamingTV_FE': [0.3989],\n",
    "    'StreamingMovies_FE': [0.3954]\n",
    "})\n",
    "\n",
    "# Predict churn (0 or 1)\n",
    "predictions = model.predict(new_data)\n",
    "# Predict churn probability\n",
    "probabilities = model.predict_proba(new_data)[:, 1]\n",
    "\n",
    "print(\"Predicted Churn:\", predictions)\n",
    "print(\"Churn Probability:\", probabilities)\n",
    "\n",
    "# Explain the prediction\n",
    "if predictions[0] == 1:\n",
    "    print(\"Prediction: YES, customer churn will happen.\")\n",
    "else:\n",
    "    print(\"Prediction: NO, customer will NOT churn.\")"
   ]
  },
  {
   "cell_type": "markdown",
   "id": "95917151",
   "metadata": {},
   "source": [
    "###############################################################################################"
   ]
  },
  {
   "cell_type": "markdown",
   "id": "a2fc41dc",
   "metadata": {},
   "source": [
    "Decode & Unscaling"
   ]
  },
  {
   "cell_type": "markdown",
   "id": "df422ee1",
   "metadata": {},
   "source": [
    "OneHot Encoding Decode"
   ]
  },
  {
   "cell_type": "code",
   "execution_count": 5,
   "id": "3cce5f0d",
   "metadata": {},
   "outputs": [
    {
     "name": "stdout",
     "output_type": "stream",
     "text": [
      "Gender: Male, Partner: No, Dependents: No\n"
     ]
    }
   ],
   "source": [
    "def decode_onehot(row):\n",
    "    gender = \"Male\" if row['gender_Male'] == 1 else \"Female\"\n",
    "    partner = \"Yes\" if row['Partner_Yes'] == 1 else \"No\"\n",
    "    dependents = \"Yes\" if row['Dependents_Yes'] == 1 else \"No\"\n",
    "    return gender, partner, dependents\n",
    "\n",
    "gender, partner, dependents = decode_onehot(new_data.iloc[0])\n",
    "print(f\"Gender: {gender}, Partner: {partner}, Dependents: {dependents}\")"
   ]
  },
  {
   "cell_type": "markdown",
   "id": "973c6a06",
   "metadata": {},
   "source": [
    "Frequency Encoding Decode"
   ]
  },
  {
   "cell_type": "code",
   "execution_count": 6,
   "id": "f6c69c99",
   "metadata": {},
   "outputs": [],
   "source": [
    "import joblib\n",
    "freq_encoders = joblib.load('../models/frequency_encoders.pkl')"
   ]
  },
  {
   "cell_type": "code",
   "execution_count": 9,
   "id": "ffd40280",
   "metadata": {},
   "outputs": [
    {
     "name": "stdout",
     "output_type": "stream",
     "text": [
      "Decoded frequency encoded values:\n",
      "MultipleLines_FE: No phone service\n",
      "InternetService_FE: DSL\n",
      "OnlineSecurity_FE: Yes\n",
      "OnlineBackup_FE: No\n",
      "DeviceProtection_FE: Yes\n",
      "TechSupport_FE: Yes\n",
      "StreamingTV_FE: No\n",
      "StreamingMovies_FE: No\n",
      "Contract_FE: One year\n",
      "PaperlessBilling_FE: No\n",
      "PaymentMethod_FE: Bank transfer (automatic)\n"
     ]
    }
   ],
   "source": [
    "import joblib\n",
    "\n",
    "# Load the frequency encoders dictionary\n",
    "freq_encoders = joblib.load('../models/frequency_encoders.pkl')\n",
    "\n",
    "def decode_frequency(value, freq_dict):\n",
    "    # Find the category with the closest frequency value\n",
    "    return min(freq_dict.items(), key=lambda x: abs(x[1] - value))[0]\n",
    "\n",
    "# Example usage for all your frequency encoded columns\n",
    "fe_columns = [\n",
    "     'MultipleLines_FE', 'InternetService_FE', 'OnlineSecurity_FE',\n",
    "    'OnlineBackup_FE', 'DeviceProtection_FE', 'TechSupport_FE', 'StreamingTV_FE',\n",
    "    'StreamingMovies_FE', 'Contract_FE', 'PaperlessBilling_FE', 'PaymentMethod_FE'\n",
    "]\n",
    "\n",
    "decoded = {}\n",
    "for col in fe_columns:\n",
    "    # Remove '_FE' to get the original column name for the encoder dict\n",
    "    orig_col = col.replace('_FE', '')\n",
    "    value = new_data[col].iloc[0]\n",
    "    decoded_value = decode_frequency(value, freq_encoders[orig_col])\n",
    "    decoded[col] = decoded_value\n",
    "\n",
    "print(\"Decoded frequency encoded values:\")\n",
    "for col, val in decoded.items():\n",
    "    print(f\"{col}: {val}\")"
   ]
  },
  {
   "cell_type": "code",
   "execution_count": 10,
   "id": "c44d655f",
   "metadata": {},
   "outputs": [],
   "source": [
    "#######################################################################################"
   ]
  },
  {
   "cell_type": "markdown",
   "id": "b8a196d9",
   "metadata": {},
   "source": [
    "Future Prediction for Decoded Version"
   ]
  },
  {
   "cell_type": "code",
   "execution_count": 11,
   "id": "33409970",
   "metadata": {},
   "outputs": [
    {
     "name": "stdout",
     "output_type": "stream",
     "text": [
      "Predicted Churn: [1]\n",
      "Churn Probability: [0.61580021]\n",
      "Prediction: YES, customer churn will happen.\n"
     ]
    }
   ],
   "source": [
    "import pandas as pd\n",
    "import joblib\n",
    "\n",
    "# 1. Original (decoded) values\n",
    "original_data = pd.DataFrame({\n",
    "    'tenure': [8],\n",
    "    'MonthlyCharges': [75.5],\n",
    "    'TotalCharges': [600.0],\n",
    "    'gender': ['Female'],\n",
    "    'Partner': ['No'],\n",
    "    'Dependents': ['No'],\n",
    "    'PhoneService': ['Yes'],\n",
    "    'MultipleLines': ['No'],\n",
    "    'InternetService': ['DSL'],\n",
    "    'OnlineSecurity': ['No'],\n",
    "    'OnlineBackup': ['Yes'],\n",
    "    'DeviceProtection': ['No'],\n",
    "    'TechSupport': ['No'],\n",
    "    'StreamingTV': ['No'],\n",
    "    'StreamingMovies': ['No'],\n",
    "    'Contract': ['Month-to-month'],\n",
    "    'PaperlessBilling': ['Yes'],\n",
    "    'PaymentMethod': ['Electronic check'],\n",
    "    'SeniorCitizen': [0]\n",
    "})\n",
    "\n",
    "# 2. Load encoders and scalers\n",
    "onehot = joblib.load('../models/onehot_encoder_gender_partner_dependents.pkl')\n",
    "freq_encoders = joblib.load('../models/frequency_encoders.pkl')\n",
    "monthly_scaler = joblib.load('../models/monthlycharges_scaler.pkl')\n",
    "totalcharges_scaler = joblib.load('../models/totalcharges_minmax_scaler.pkl')\n",
    "\n",
    "# 3. Apply scaling\n",
    "original_data['MonthlyCharges_scaled'] = monthly_scaler.transform(original_data[['MonthlyCharges']])\n",
    "original_data['TotalCharges_scaled'] = totalcharges_scaler.transform(original_data[['TotalCharges']])\n",
    "\n",
    "# 4. One-hot encode gender, Partner, Dependents\n",
    "onehot_df = pd.DataFrame(\n",
    "    onehot.transform(original_data[['gender', 'Partner', 'Dependents']]),\n",
    "    columns=onehot.get_feature_names_out(['gender', 'Partner', 'Dependents'])\n",
    ")\n",
    "original_data = pd.concat([original_data, onehot_df], axis=1)\n",
    "original_data.drop(['gender', 'Partner', 'Dependents'], axis=1, inplace=True)\n",
    "\n",
    "# 5. Frequency encode other categorical columns\n",
    "for col in freq_encoders:\n",
    "    fe_col = col + '_FE'\n",
    "    original_data[fe_col] = original_data[col].map(freq_encoders[col])\n",
    "    original_data.drop(col, axis=1, inplace=True)\n",
    "\n",
    "# 6. Select and order columns as in training\n",
    "model_features = [\n",
    "    'tenure', 'MonthlyCharges_scaled', 'TotalCharges_scaled', 'gender_Male', 'gender_Female',\n",
    "    'OnlineBackup_FE', 'InternetService_FE', 'OnlineSecurity_FE', 'TechSupport_FE', 'Contract_FE',\n",
    "    'PaymentMethod_FE', 'PaperlessBilling_FE', 'MultipleLines_FE', 'DeviceProtection_FE',\n",
    "    'Partner_Yes', 'Partner_No', 'SeniorCitizen', 'Dependents_No', 'Dependents_Yes',\n",
    "    'StreamingTV_FE', 'StreamingMovies_FE'\n",
    "]\n",
    "X_new = original_data[model_features]\n",
    "\n",
    "# 7. Predict\n",
    "model = joblib.load(\"../models/logistic_regression_telco.pkl\")\n",
    "predictions = model.predict(X_new)\n",
    "probabilities = model.predict_proba(X_new)[:, 1]\n",
    "\n",
    "print(\"Predicted Churn:\", predictions)\n",
    "print(\"Churn Probability:\", probabilities)\n",
    "if predictions[0] == 1:\n",
    "    print(\"Prediction: YES, customer churn will happen.\")\n",
    "else:\n",
    "    print(\"Prediction: NO, customer will NOT churn.\")"
   ]
  },
  {
   "cell_type": "code",
   "execution_count": 12,
   "id": "c843eee3",
   "metadata": {},
   "outputs": [
    {
     "name": "stdout",
     "output_type": "stream",
     "text": [
      "Predicted Churn: [0]\n",
      "Churn Probability: [0.48087736]\n",
      "Prediction: NO, customer will NOT churn.\n"
     ]
    }
   ],
   "source": [
    "import pandas as pd\n",
    "import joblib\n",
    "\n",
    "# 1. Original (decoded) values\n",
    "original_data = pd.DataFrame({\n",
    "    'tenure': [22],\n",
    "    'MonthlyCharges': [89.1],\n",
    "    'TotalCharges': [1949.4],\n",
    "    'gender': ['Male'],\n",
    "    'Partner': ['No'],\n",
    "    'Dependents': ['Yes'],\n",
    "    'PhoneService': ['Yes'],\n",
    "    'MultipleLines': ['Yes'],\n",
    "    'InternetService': ['Fiber optic'],\n",
    "    'OnlineSecurity': ['No'],\n",
    "    'OnlineBackup': ['Yes'],\n",
    "    'DeviceProtection': ['No'],\n",
    "    'TechSupport': ['No'],\n",
    "    'StreamingTV': ['Yes'],\n",
    "    'StreamingMovies': ['No'],\n",
    "    'Contract': ['Month-to-month'],\n",
    "    'PaperlessBilling': ['Yes'],\n",
    "    'PaymentMethod': ['Credit card (automatic)'],\n",
    "    'SeniorCitizen': [0]\n",
    "})\n",
    "\n",
    "# 2. Load encoders and scalers\n",
    "onehot = joblib.load('../models/onehot_encoder_gender_partner_dependents.pkl')\n",
    "freq_encoders = joblib.load('../models/frequency_encoders.pkl')\n",
    "monthly_scaler = joblib.load('../models/monthlycharges_scaler.pkl')\n",
    "totalcharges_scaler = joblib.load('../models/totalcharges_minmax_scaler.pkl')\n",
    "\n",
    "# 3. Apply scaling\n",
    "original_data['MonthlyCharges_scaled'] = monthly_scaler.transform(original_data[['MonthlyCharges']])\n",
    "original_data['TotalCharges_scaled'] = totalcharges_scaler.transform(original_data[['TotalCharges']])\n",
    "\n",
    "# 4. One-hot encode gender, Partner, Dependents\n",
    "onehot_df = pd.DataFrame(\n",
    "    onehot.transform(original_data[['gender', 'Partner', 'Dependents']]),\n",
    "    columns=onehot.get_feature_names_out(['gender', 'Partner', 'Dependents'])\n",
    ")\n",
    "original_data = pd.concat([original_data, onehot_df], axis=1)\n",
    "original_data.drop(['gender', 'Partner', 'Dependents'], axis=1, inplace=True)\n",
    "\n",
    "# 5. Frequency encode other categorical columns\n",
    "for col in freq_encoders:\n",
    "    fe_col = col + '_FE'\n",
    "    original_data[fe_col] = original_data[col].map(freq_encoders[col])\n",
    "    original_data.drop(col, axis=1, inplace=True)\n",
    "\n",
    "# 6. Select and order columns as in training\n",
    "model_features = [\n",
    "    'tenure', 'MonthlyCharges_scaled', 'TotalCharges_scaled', 'gender_Male', 'gender_Female',\n",
    "    'OnlineBackup_FE', 'InternetService_FE', 'OnlineSecurity_FE', 'TechSupport_FE', 'Contract_FE',\n",
    "    'PaymentMethod_FE', 'PaperlessBilling_FE', 'MultipleLines_FE', 'DeviceProtection_FE',\n",
    "    'Partner_Yes', 'Partner_No', 'SeniorCitizen', 'Dependents_No', 'Dependents_Yes',\n",
    "    'StreamingTV_FE', 'StreamingMovies_FE'\n",
    "]\n",
    "X_new = original_data[model_features]\n",
    "\n",
    "# 7. Predict\n",
    "model = joblib.load(\"../models/logistic_regression_telco.pkl\")\n",
    "predictions = model.predict(X_new)\n",
    "probabilities = model.predict_proba(X_new)[:, 1]\n",
    "\n",
    "print(\"Predicted Churn:\", predictions)\n",
    "print(\"Churn Probability:\", probabilities)\n",
    "if predictions[0] == 1:\n",
    "    print(\"Prediction: YES, customer churn will happen.\")\n",
    "else:\n",
    "    print(\"Prediction: NO, customer will NOT churn.\")"
   ]
  },
  {
   "cell_type": "code",
   "execution_count": null,
   "id": "40c8f011",
   "metadata": {},
   "outputs": [],
   "source": []
  }
 ],
 "metadata": {
  "kernelspec": {
   "display_name": "telecomenvironment",
   "language": "python",
   "name": "python3"
  },
  "language_info": {
   "codemirror_mode": {
    "name": "ipython",
    "version": 3
   },
   "file_extension": ".py",
   "mimetype": "text/x-python",
   "name": "python",
   "nbconvert_exporter": "python",
   "pygments_lexer": "ipython3",
   "version": "3.13.3"
  }
 },
 "nbformat": 4,
 "nbformat_minor": 5
}
