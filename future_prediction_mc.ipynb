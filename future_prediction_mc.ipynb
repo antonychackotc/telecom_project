{
 "cells": [
  {
   "cell_type": "code",
   "execution_count": 1,
   "id": "1dc2ff97",
   "metadata": {},
   "outputs": [],
   "source": [
    "import pandas as pd\n",
    "import numpy as np\n",
    "import matplotlib.pyplot as plt\n",
    "import seaborn as sns\n",
    "import sklearn\n",
    "import streamlit\n",
    "import joblib\n"
   ]
  },
  {
   "cell_type": "code",
   "execution_count": 2,
   "id": "66749991",
   "metadata": {},
   "outputs": [],
   "source": [
    "model = joblib.load(\"models/best_random_forest_monthlycharges.pkl\")"
   ]
  },
  {
   "cell_type": "markdown",
   "id": "153438f8",
   "metadata": {},
   "source": [
    "Future Prediction"
   ]
  },
  {
   "cell_type": "code",
   "execution_count": 3,
   "id": "c69890f9",
   "metadata": {},
   "outputs": [
    {
     "name": "stdout",
     "output_type": "stream",
     "text": [
      "Predicted MonthlyCharges: 89.24028869047623\n"
     ]
    }
   ],
   "source": [
    "# Example: Predict MonthlyCharges_scaled for new/future data\n",
    "\n",
    "# Load or create your new data as a DataFrame (must have same features as training)\n",
    "# Example: new_data = pd.read_csv(\"future_customers.csv\")\n",
    "# For demonstration, let's create a dummy row (replace with your actual data)\n",
    "new_data = pd.DataFrame({\n",
    "    'InternetService_FE': [1],\n",
    "    'StreamingTV_FE': [0],\n",
    "    'StreamingMovies_FE': [1],\n",
    "    'DeviceProtection_FE': [1],\n",
    "    'OnlineSecurity_FE': [0],\n",
    "    'OnlineBackup_FE': [1],\n",
    "    'TechSupport_FE': [0],\n",
    "    'MultipleLines_FE': [1],\n",
    "    'PhoneService_FE': [1],\n",
    "    'tenure': [12],\n",
    "    'PaymentMethod_FE': [2],\n",
    "    'Contract_FE': [1],\n",
    "    'PaperlessBilling_FE': [1],\n",
    "    'Churn': [0],\n",
    "    'SeniorCitizen': [0],\n",
    "    'Partner_No': [1],\n",
    "    'Partner_Yes': [0]\n",
    "})\n",
    "\n",
    "# Predict\n",
    "future_pred = model.predict(new_data)\n",
    "print(\"Predicted MonthlyCharges:\", future_pred[0])"
   ]
  },
  {
   "cell_type": "code",
   "execution_count": 4,
   "id": "af00c71f",
   "metadata": {},
   "outputs": [
    {
     "name": "stdout",
     "output_type": "stream",
     "text": [
      "Predicted MonthlyCharges: 55.36302662147579\n"
     ]
    }
   ],
   "source": [
    "# Example: Predict MonthlyCharges_scaled for new/future data\n",
    "\n",
    "# Load or create your new data as a DataFrame (must have same features as training)\n",
    "# Example: new_data = pd.read_csv(\"future_customers.csv\")\n",
    "# For demonstration, let's create a dummy row (replace with your actual data)\n",
    "new_data = pd.DataFrame({\n",
    "    'InternetService_FE': [0.3437],\n",
    "    'StreamingTV_FE': [0.3989],\n",
    "    'StreamingMovies_FE': [0.3954],\n",
    "    'DeviceProtection_FE': [0.3438],\n",
    "    'OnlineSecurity_FE': [0.2866],\n",
    "    'OnlineBackup_FE': [0.4384],\n",
    "    'TechSupport_FE': [0.49311],\n",
    "    'MultipleLines_FE': [0.4813],\n",
    "    'PhoneService_FE': [0.9031],\n",
    "    'tenure': [34],\n",
    "    'PaymentMethod_FE': [0.2288],\n",
    "    'Contract_FE': [0.2091],\n",
    "    'PaperlessBilling_FE': [0.4077],\n",
    "    'Churn': [0],\n",
    "    'SeniorCitizen': [0],\n",
    "    'Partner_No': [0],\n",
    "    'Partner_Yes': [1]\n",
    "})\n",
    "\n",
    "# Predict\n",
    "future_pred = model.predict(new_data)\n",
    "print(\"Predicted MonthlyCharges:\", future_pred[0])"
   ]
  },
  {
   "cell_type": "code",
   "execution_count": 5,
   "id": "ada22236",
   "metadata": {},
   "outputs": [],
   "source": [
    "######################################################################################"
   ]
  },
  {
   "cell_type": "markdown",
   "id": "a766fa97",
   "metadata": {},
   "source": [
    "Decode"
   ]
  },
  {
   "cell_type": "code",
   "execution_count": 6,
   "id": "daf4c5b5",
   "metadata": {},
   "outputs": [
    {
     "name": "stdout",
     "output_type": "stream",
     "text": [
      "Decoded frequency encoded values:\n",
      "MultipleLines_FE: No\n",
      "InternetService_FE: DSL\n",
      "OnlineSecurity_FE: Yes\n",
      "OnlineBackup_FE: No\n",
      "DeviceProtection_FE: Yes\n",
      "TechSupport_FE: No\n",
      "StreamingTV_FE: No\n",
      "StreamingMovies_FE: No\n",
      "Contract_FE: One year\n",
      "PaperlessBilling_FE: No\n",
      "PaymentMethod_FE: Mailed check\n"
     ]
    }
   ],
   "source": [
    "import joblib\n",
    "\n",
    "# Load the frequency encoders dictionary\n",
    "freq_encoders = joblib.load('models/frequency_encoders.pkl')\n",
    "\n",
    "def decode_frequency(value, freq_dict):\n",
    "    # Find the category with the closest frequency value\n",
    "    return min(freq_dict.items(), key=lambda x: abs(x[1] - value))[0]\n",
    "\n",
    "# Example usage for all your frequency encoded columns\n",
    "fe_columns = [\n",
    "     'MultipleLines_FE', 'InternetService_FE', 'OnlineSecurity_FE',\n",
    "    'OnlineBackup_FE', 'DeviceProtection_FE', 'TechSupport_FE', 'StreamingTV_FE',\n",
    "    'StreamingMovies_FE', 'Contract_FE', 'PaperlessBilling_FE', 'PaymentMethod_FE'\n",
    "]\n",
    "\n",
    "decoded = {}\n",
    "for col in fe_columns:\n",
    "    # Remove '_FE' to get the original column name for the encoder dict\n",
    "    orig_col = col.replace('_FE', '')\n",
    "    value = new_data[col].iloc[0]\n",
    "    decoded_value = decode_frequency(value, freq_encoders[orig_col])\n",
    "    decoded[col] = decoded_value\n",
    "\n",
    "print(\"Decoded frequency encoded values:\")\n",
    "for col, val in decoded.items():\n",
    "    print(f\"{col}: {val}\")"
   ]
  },
  {
   "cell_type": "code",
   "execution_count": 7,
   "id": "c22133d8",
   "metadata": {},
   "outputs": [
    {
     "name": "stdout",
     "output_type": "stream",
     "text": [
      "Partner: Yes\n"
     ]
    }
   ],
   "source": [
    "def decode_onehot(row):\n",
    "    partner = \"Yes\" if row['Partner_Yes'] == 1 else \"No\"\n",
    "    return partner\n",
    "\n",
    "partner = decode_onehot(new_data.iloc[0])\n",
    "print(f\"Partner: {partner}\")"
   ]
  },
  {
   "cell_type": "code",
   "execution_count": 19,
   "id": "ad3721ac",
   "metadata": {},
   "outputs": [
    {
     "name": "stdout",
     "output_type": "stream",
     "text": [
      "Predicted MonthlyCharges: 55.36302662147579\n"
     ]
    }
   ],
   "source": [
    "import pandas as pd\n",
    "import joblib\n",
    "\n",
    "# 1. Original (decoded) values (Churn as \"Yes\"/\"No\")\n",
    "original_data = pd.DataFrame({\n",
    "    'InternetService': ['DSL'],\n",
    "    'StreamingTV': ['No'],\n",
    "    'StreamingMovies': ['No'],\n",
    "    'DeviceProtection': ['Yes'],\n",
    "    'OnlineSecurity': ['Yes'],\n",
    "    'OnlineBackup': ['No'],\n",
    "    'TechSupport': ['No'],\n",
    "    'MultipleLines': ['No'],\n",
    "    'PhoneService': ['Yes'],\n",
    "    'tenure': [34],\n",
    "    'PaymentMethod': ['Mailed check'],\n",
    "    'Contract': ['One year'],\n",
    "    'PaperlessBilling': ['No'],\n",
    "    'Churn': ['No'],           # <-- \"Yes\" or \"No\" allowed\n",
    "    'SeniorCitizen': [0],\n",
    "    'Partner': ['No']\n",
    "})\n",
    "\n",
    "# 2. Convert Churn to numeric (0/1)\n",
    "original_data['Churn'] = original_data['Churn'].map({'No': 0, 'Yes': 1})\n",
    "\n",
    "# 3. Load frequency encoders\n",
    "freq_encoders = joblib.load('models/frequency_encoders.pkl')\n",
    "\n",
    "# 4. Frequency encode categorical columns (do NOT drop 'Churn')\n",
    "for col in freq_encoders:\n",
    "    fe_col = col + '_FE'\n",
    "    original_data[fe_col] = original_data[col].map(freq_encoders[col])\n",
    "    if col not in ['Churn']:\n",
    "        original_data.drop(col, axis=1, inplace=True)\n",
    "\n",
    "# 5. Manually add one-hot columns for Partner\n",
    "original_data['Partner_Yes'] = [1 if original_data.get('Partner', ['No'])[0] == 'Yes' else 0]\n",
    "original_data['Partner_No'] = [1 if original_data.get('Partner', ['No'])[0] == 'No' else 0]\n",
    "if 'Partner' in original_data.columns:\n",
    "    original_data.drop('Partner', axis=1, inplace=True)\n",
    "\n",
    "# 6. Select and order columns as in training (including Churn)\n",
    "model_features = [\n",
    "    'InternetService_FE', 'StreamingTV_FE', 'StreamingMovies_FE',\n",
    "    'DeviceProtection_FE', 'OnlineSecurity_FE', 'OnlineBackup_FE', 'TechSupport_FE',\n",
    "    'MultipleLines_FE', 'PhoneService_FE', 'tenure', 'PaymentMethod_FE', 'Contract_FE',\n",
    "    'PaperlessBilling_FE', 'Churn', 'SeniorCitizen', 'Partner_No', 'Partner_Yes'\n",
    "]\n",
    "X_new = original_data[model_features]\n",
    "\n",
    "# 7. Load model and predict\n",
    "model = joblib.load(\"models/best_random_forest_monthlycharges.pkl\")\n",
    "predicted_monthlycharges = model.predict(X_new)[0]\n",
    "\n",
    "# 8. Churn label mapping for output\n",
    "churn_value = original_data['Churn'].iloc[0]\n",
    "churn_label = \"Yes\" if churn_value == 1 else \"No\"\n",
    "\n",
    "print(\"Predicted MonthlyCharges:\", predicted_monthlycharges)"
   ]
  },
  {
   "cell_type": "code",
   "execution_count": null,
   "id": "9c38fdb2",
   "metadata": {},
   "outputs": [],
   "source": []
  }
 ],
 "metadata": {
  "kernelspec": {
   "display_name": "telecomenvironment",
   "language": "python",
   "name": "python3"
  },
  "language_info": {
   "codemirror_mode": {
    "name": "ipython",
    "version": 3
   },
   "file_extension": ".py",
   "mimetype": "text/x-python",
   "name": "python",
   "nbconvert_exporter": "python",
   "pygments_lexer": "ipython3",
   "version": "3.13.3"
  }
 },
 "nbformat": 4,
 "nbformat_minor": 5
}
